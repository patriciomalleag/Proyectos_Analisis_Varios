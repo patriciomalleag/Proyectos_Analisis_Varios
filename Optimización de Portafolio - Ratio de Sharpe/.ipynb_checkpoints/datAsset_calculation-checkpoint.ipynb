{
 "cells": [
  {
   "cell_type": "code",
   "execution_count": 178,
   "metadata": {
    "code_folding": [],
    "scrolled": true
   },
   "outputs": [],
   "source": [
    "# Librerías a utilizar\n",
    "\n",
    "from multiprocessing import Pool\n",
    "import webbrowser\n",
    "import os\n",
    "import pandas as pd\n",
    "import numpy as np\n",
    "import itertools as it\n",
    "\n",
    "\n",
    "import time as time\n",
    "import datetime as dt\n",
    "from scipy.optimize import minimize\n",
    "from scipy.stats import norm\n",
    "import matplotlib. pyplot as plt\n",
    "\n",
    "\n",
    "%matplotlib inline\n",
    "import warnings\n",
    "warnings.filterwarnings(\"ignore\")\n",
    "\n",
    "\n",
    "import matplotlib.pyplot as plt\n",
    "import matplotlib.patches as ptch\n",
    "import matplotlib.lines as mlines\n",
    "import matplotlib.ticker as mtick\n",
    "from matplotlib.ticker import FormatStrFormatter\n",
    "\n",
    "\n",
    "def newline(p1, p2, ls, color, ax):\n",
    "    ax = plt.gca()\n",
    "    xmin, xmax = ax.get_xbound()\n",
    "\n",
    "    if(p2[0] == p1[0]):\n",
    "        xmin = xmax = p1[0]\n",
    "        ymin, ymax = ax.get_ybound()\n",
    "    else:\n",
    "        ymax = p1[1]+(p2[1]-p1[1])/(p2[0]-p1[0])*(xmax-p1[0])\n",
    "        ymin = p1[1]+(p2[1]-p1[1])/(p2[0]-p1[0])*(xmin-p1[0])\n",
    "\n",
    "    l = mlines.Line2D([xmin,xmax], [ymin,ymax],ls=ls,color=color,lw=2)\n",
    "    ax.add_line(l)\n",
    "    return l\n",
    "\n",
    "def daily_portfolio_return(weights, returns):\n",
    "    \"\"\"\n",
    "    Computes the return on a portfolio from constituent returns and weights\n",
    "    weights are a numpy array or Nx1 matrix and returns are a numpy array or Nx1 matrix\n",
    "    \"\"\"\n",
    "    return (weights.T @ returns)\n",
    "    \n",
    "def daily_portfolio_vol(weights, covmat):\n",
    "    \"\"\"\n",
    "    Computes the vol of a portfolio from a covariance matrix and constituent weights\n",
    "    weights are a numpy array or N x 1 maxtrix and covmat is an N x N matrix\n",
    "    \"\"\"\n",
    "    return (weights.T @ covmat @ weights)**0.5\n",
    "    \n",
    "def daily_neg_sharpe(weights, riskfree_rate, er, cov):\n",
    "    \"\"\"\n",
    "    Returns the negative of the sharpe ratio\n",
    "    of the given portfolio\n",
    "    \"\"\"\n",
    "    r = daily_portfolio_return(weights, er)\n",
    "    vol = daily_portfolio_vol(weights, cov)\n",
    "    return -(r - riskfree_rate)/vol\n",
    "\n",
    "def portfolio_return(weights, returns):\n",
    "    \"\"\"\n",
    "    Computes the return on a portfolio from constituent returns and weights\n",
    "    weights are a numpy array or Nx1 matrix and returns are a numpy array or Nx1 matrix\n",
    "    \"\"\"\n",
    "    return 252*(weights.T @ returns)\n",
    "    \n",
    "def portfolio_vol(weights, covmat):\n",
    "    \"\"\"\n",
    "    Computes the vol of a portfolio from a covariance matrix and constituent weights\n",
    "    weights are a numpy array or N x 1 maxtrix and covmat is an N x N matrix\n",
    "    \"\"\"\n",
    "    return (252*(weights.T @ covmat @ weights))**0.5\n",
    "    \n",
    "def neg_sharpe(weights, riskfree_rate, er, cov):\n",
    "    \"\"\"\n",
    "    Returns the negative of the sharpe ratio\n",
    "    of the given portfolio\n",
    "    \"\"\"\n",
    "    r = portfolio_return(weights, er)\n",
    "    vol = portfolio_vol(weights, cov)\n",
    "    return -(r - riskfree_rate)/vol\n",
    "\n",
    "def msr(riskfree_rate, er, cov):\n",
    "    \"\"\"\n",
    "    Returns the weights of the portfolio that gives you the maximum sharpe ratio\n",
    "    given the riskfree rate and expected returns and a covariance matrix\n",
    "    \"\"\"\n",
    "    n = er.shape[0]\n",
    "    init_guess = np.repeat(1/n, n)\n",
    "    lb = np.minimum(0.05,er.shape[0]/100)\n",
    "    bounds = np.array(((lb, 1.0),) * n)\n",
    "    # construct the constraints\n",
    "    weights_sum_to_1 = {'type': 'eq',\n",
    "                        'fun': lambda weights: np.sum(weights) - 1\n",
    "    }\n",
    "\n",
    "    weights = minimize(neg_sharpe, init_guess,\n",
    "                       args=(riskfree_rate, er, cov), method='SLSQP',\n",
    "                       options={'disp': False},\n",
    "                       constraints=(weights_sum_to_1,),\n",
    "                       bounds=bounds)\n",
    "    return weights.x\n",
    "\n",
    "def skewness(r):\n",
    "    \"\"\"\n",
    "    Alternative to scipy.stats.skew()\n",
    "    Computes the skewness of the supplied Series or DataFrame\n",
    "    Returns a float or a Series\n",
    "    \"\"\"\n",
    "    demeaned_r = r - r.mean()\n",
    "    # use the population standard deviation, so set dof=0\n",
    "    sigma_r = r.std(ddof=0)\n",
    "    exp = (demeaned_r**3).mean()\n",
    "    return exp/sigma_r**3\n",
    "\n",
    "\n",
    "def kurtosis(r):\n",
    "    \"\"\"\n",
    "    Alternative to scipy.stats.kurtosis()\n",
    "    Computes the kurtosis of the supplied Series or DataFrame\n",
    "    Returns a float or a Series\n",
    "    \"\"\"\n",
    "    demeaned_r = r - r.mean()\n",
    "    # use the population standard deviation, so set dof=0\n",
    "    sigma_r = r.std(ddof=0)\n",
    "    exp = (demeaned_r**4).mean()\n",
    "    return exp/sigma_r**4\n",
    "\n",
    "\n",
    "def var_historic(r, level=5):\n",
    "    \"\"\"\n",
    "    Returns the historic Value at Risk at a specified level\n",
    "    i.e. returns the number such that \"level\" percent of the returns\n",
    "    fall below that number, and the (100-level) percent are above\n",
    "    \"\"\"\n",
    "    if isinstance(r, pd.DataFrame):\n",
    "        return r.aggregate(var_historic, level=level)\n",
    "    elif isinstance(r, pd.Series):\n",
    "        return -np.percentile(r, level)\n",
    "    else:\n",
    "        raise TypeError(\"Expected r to be a Series or DataFrame\")\n",
    "\n",
    "\n",
    "def cvar_historic(r, level=5):\n",
    "    \"\"\"\n",
    "    Computes the Conditional VaR of Series or DataFrame\n",
    "    \"\"\"\n",
    "    if isinstance(r, pd.Series):\n",
    "        is_beyond = r <= var_historic(r, level=level)\n",
    "        return -r[is_beyond].mean()\n",
    "    elif isinstance(r, pd.DataFrame):\n",
    "        return r.aggregate(cvar_historic, level=level)\n",
    "    else:\n",
    "        raise TypeError(\"Expected r to be a Series or DataFrame\")\n",
    "\n",
    "def var_gaussian(r, level=5, modified=False):\n",
    "    \"\"\"\n",
    "    Returns the Parametric Gauusian VaR of a Series or DataFrame\n",
    "    If \"modified\" is True, then the modified VaR is returned,\n",
    "    using the Cornish-Fisher modification\n",
    "    \"\"\"\n",
    "    # compute the Z score assuming it was Gaussian\n",
    "    z = norm.ppf(level/100)\n",
    "    if modified:\n",
    "        # modify the Z score based on observed skewness and kurtosis\n",
    "        s = skewness(r)\n",
    "        k = kurtosis(r)\n",
    "        z = (z +\n",
    "                (z**2 - 1)*s/6 +\n",
    "                (z**3 -3*z)*(k-3)/24 -\n",
    "                (2*z**3 - 5*z)*(s**2)/36\n",
    "            )\n",
    "    return -(r.mean() + z*r.std(ddof=0))"
   ]
  },
  {
   "cell_type": "markdown",
   "metadata": {},
   "source": [
    "# Elección de portafolio datAsset Improve\n",
    "\n",
    "\n",
    "Para la optimización en la elección del portafolio ***Improve*** de **datAsset**, se escogerá el portafolio con mayor ratio de Sharpe entre todas las combinaciones posibles de portafolio de 7 acciones, que cumplan con ponderar por lo bajo **5%** cada una.\n",
    "\n",
    "Cabe destacar que nuestra regla de decisión se basará en torno al ratio de Sharpe, el cual se calcula con la siguiente fórmula:\n",
    "\n",
    "$$S=\\frac{\\mathbb{E}(r_P)-r_f}{\\sigma_P}$$\n",
    "\n",
    "Nos remitiremos solo a las acciones que nos permitan obtener un Ratio de Sharpe positivo, por lo que eliminaremos todas las acciones cuyos retornos logarítmicos diarios promedio los dos primeros años sean menores al retorno diario del activo libre de riesgo.\n",
    "\n",
    "Escogeremos nuestros activos del **S&P100**, y en NYSE se transan aprox. 252 días al año, nuestro retorno diario para el activo libre de riesgo sería **2.7%**. En el caso de querer hacer cálculos diarios se divide por la cantidad de días transables."
   ]
  },
  {
   "cell_type": "code",
   "execution_count": 111,
   "metadata": {},
   "outputs": [],
   "source": [
    "# Calculo activo libre de riesgo\n",
    "\n",
    "risk_free_asset = [0.027 , 0]\n",
    "risk_free = [0.027/252 , 0]"
   ]
  },
  {
   "cell_type": "markdown",
   "metadata": {},
   "source": [
    "Ahora que ya tenemos definido nuestro problema, debemos obtener los datos para esto el siguiente script se encarga de descargar todos los datos de Yahoo Finance para las fechas entre el **01 de Enero del 2017** y **31 de Diciembre del 2019**."
   ]
  },
  {
   "cell_type": "code",
   "execution_count": 112,
   "metadata": {
    "code_folding": []
   },
   "outputs": [
    {
     "data": {
      "text/plain": [
       "'\\nfor i in assets:\\n    link = \"https://query1.finance.yahoo.com/v7/finance/download/{}?period1=1483228800&period2=1577750400&interval=1d&events=history\".format(i)\\n    webbrowser.open(link)\\n'"
      ]
     },
     "execution_count": 112,
     "metadata": {},
     "output_type": "execute_result"
    }
   ],
   "source": [
    "# Se descargan todos los históricos del SP&100\n",
    "\n",
    "assets = [\"AAPL\", \"ABBV\", \"ABT\", \"ACN\", \"ADBE\", \"AIG\", \"ALL\", \"AMGN\", \"AMT\", \n",
    "              \"AMZN\", \"AXP\", \"BA\", \"BAC\", \"BIIB\", \"BK\", \"BKNG\", \"BLK\", \"BMY\", \n",
    "              \"C\", \"CAT\", \"CHTR\", \"CL\", \"CMCSA\", \"COF\", \"COP\", \"COST\", \"CRM\", \n",
    "              \"CSCO\", \"CVS\", \"CVX\", \"DD\", \"DHR\", \"DIS\", \"DOW\", \"DUK\", \"EMR\", \n",
    "              \"EXC\", \"F\", \"FB\", \"FDX\", \"GD\", \"GE\", \"GILD\", \"GM\", \"GOOG\", \"GOOGL\", \n",
    "              \"GS\", \"HD\", \"HON\", \"IBM\", \"INTC\", \"JNJ\", \"JPM\", \"KHC\", \"KMI\", \"KO\",\n",
    "              \"LLY\", \"LMT\", \"LOW\", \"MA\", \"MCD\", \"MDLZ\", \"MDT\", \"MET\", \"MMM\", \"MO\", \n",
    "              \"MRK\", \"MS\", \"MSFT\", \"NEE\", \"NFLX\", \"NKE\", \"NVDA\", \"ORCL\", \"OXY\", \n",
    "              \"PEP\", \"PFE\", \"PG\", \"PM\", \"PYPL\", \"QCOM\", \"RTX\", \"SBUX\", \"SLB\", \n",
    "              \"SO\", \"SPG\", \"T\", \"TGT\", \"TMO\", \"TXN\", \"UNH\", \"UNP\", \"UPS\", \"USB\", \n",
    "              \"V\", \"VZ\", \"WBA\", \"WFC\", \"WMT\", \"XOM\"]\n",
    "\n",
    "'''\n",
    "for i in assets:\n",
    "    link = \"https://query1.finance.yahoo.com/v7/finance/download/{}?period1=1483228800&period2=1577750400&interval=1d&events=history\".format(i)\n",
    "    webbrowser.open(link)\n",
    "'''"
   ]
  },
  {
   "cell_type": "markdown",
   "metadata": {},
   "source": [
    "### Análisis de los activos\n",
    "\n",
    "Ahora analizamos que todos los activos lleven la misma cantidad de días transandose, para no tener problemas más adelante con el cálculo de los retornos."
   ]
  },
  {
   "cell_type": "code",
   "execution_count": 113,
   "metadata": {
    "scrolled": true
   },
   "outputs": [
    {
     "data": {
      "text/html": [
       "<div>\n",
       "<style scoped>\n",
       "    .dataframe tbody tr th:only-of-type {\n",
       "        vertical-align: middle;\n",
       "    }\n",
       "\n",
       "    .dataframe tbody tr th {\n",
       "        vertical-align: top;\n",
       "    }\n",
       "\n",
       "    .dataframe thead th {\n",
       "        text-align: right;\n",
       "    }\n",
       "</style>\n",
       "<table border=\"1\" class=\"dataframe\">\n",
       "  <thead>\n",
       "    <tr style=\"text-align: right;\">\n",
       "      <th></th>\n",
       "      <th>shape</th>\n",
       "    </tr>\n",
       "  </thead>\n",
       "  <tbody>\n",
       "    <tr>\n",
       "      <th>DOW</th>\n",
       "      <td>198</td>\n",
       "    </tr>\n",
       "  </tbody>\n",
       "</table>\n",
       "</div>"
      ],
      "text/plain": [
       "    shape\n",
       "DOW   198"
      ]
     },
     "execution_count": 113,
     "metadata": {},
     "output_type": "execute_result"
    }
   ],
   "source": [
    "df_shape = pd.DataFrame(index=assets, columns=[\"shape\"])\n",
    "\n",
    "for filename in os.listdir('data/assets'):\n",
    "    file = open('data/assets/'+filename)\n",
    "    df_shape.loc[os.path.basename(file.name)[:-4]][\"shape\"] = pd.read_csv('data/assets/'+filename).shape[0]\n",
    "    \n",
    "df_shape[df_shape[\"shape\"]<753]"
   ]
  },
  {
   "cell_type": "markdown",
   "metadata": {},
   "source": [
    "Se elimina *Dow Inc (DOW)* por tener solo 198 días transando en el mercado. Además se leen todos los precios de los activos y se crea un dataframe con los cierres ajustados."
   ]
  },
  {
   "cell_type": "code",
   "execution_count": 124,
   "metadata": {},
   "outputs": [
    {
     "data": {
      "text/html": [
       "<div>\n",
       "<style scoped>\n",
       "    .dataframe tbody tr th:only-of-type {\n",
       "        vertical-align: middle;\n",
       "    }\n",
       "\n",
       "    .dataframe tbody tr th {\n",
       "        vertical-align: top;\n",
       "    }\n",
       "\n",
       "    .dataframe thead th {\n",
       "        text-align: right;\n",
       "    }\n",
       "</style>\n",
       "<table border=\"1\" class=\"dataframe\">\n",
       "  <thead>\n",
       "    <tr style=\"text-align: right;\">\n",
       "      <th></th>\n",
       "      <th>Date</th>\n",
       "      <th>AAPL</th>\n",
       "      <th>ABBV</th>\n",
       "      <th>ABT</th>\n",
       "      <th>ACN</th>\n",
       "      <th>ADBE</th>\n",
       "      <th>AIG</th>\n",
       "      <th>ALL</th>\n",
       "      <th>AMGN</th>\n",
       "      <th>AMT</th>\n",
       "      <th>...</th>\n",
       "      <th>UNH</th>\n",
       "      <th>UNP</th>\n",
       "      <th>UPS</th>\n",
       "      <th>USB</th>\n",
       "      <th>V</th>\n",
       "      <th>VZ</th>\n",
       "      <th>WBA</th>\n",
       "      <th>WFC</th>\n",
       "      <th>WMT</th>\n",
       "      <th>XOM</th>\n",
       "    </tr>\n",
       "  </thead>\n",
       "  <tbody>\n",
       "    <tr>\n",
       "      <th>0</th>\n",
       "      <td>2017-01-03</td>\n",
       "      <td>110.392334</td>\n",
       "      <td>52.551662</td>\n",
       "      <td>36.556423</td>\n",
       "      <td>109.816139</td>\n",
       "      <td>103.480003</td>\n",
       "      <td>59.218830</td>\n",
       "      <td>69.386414</td>\n",
       "      <td>136.338608</td>\n",
       "      <td>99.202438</td>\n",
       "      <td>...</td>\n",
       "      <td>152.995758</td>\n",
       "      <td>94.916626</td>\n",
       "      <td>102.347374</td>\n",
       "      <td>46.466454</td>\n",
       "      <td>77.675957</td>\n",
       "      <td>46.683941</td>\n",
       "      <td>75.488945</td>\n",
       "      <td>49.328472</td>\n",
       "      <td>63.187412</td>\n",
       "      <td>77.590286</td>\n",
       "    </tr>\n",
       "    <tr>\n",
       "      <th>1</th>\n",
       "      <td>2017-01-04</td>\n",
       "      <td>110.268791</td>\n",
       "      <td>53.292667</td>\n",
       "      <td>36.846622</td>\n",
       "      <td>110.080170</td>\n",
       "      <td>104.139999</td>\n",
       "      <td>59.991787</td>\n",
       "      <td>69.573509</td>\n",
       "      <td>138.274292</td>\n",
       "      <td>99.380005</td>\n",
       "      <td>...</td>\n",
       "      <td>153.431671</td>\n",
       "      <td>95.490654</td>\n",
       "      <td>102.374054</td>\n",
       "      <td>46.809586</td>\n",
       "      <td>78.311043</td>\n",
       "      <td>46.632622</td>\n",
       "      <td>75.507172</td>\n",
       "      <td>49.372513</td>\n",
       "      <td>63.555534</td>\n",
       "      <td>76.736603</td>\n",
       "    </tr>\n",
       "    <tr>\n",
       "      <th>2</th>\n",
       "      <td>2017-01-05</td>\n",
       "      <td>110.829552</td>\n",
       "      <td>53.696846</td>\n",
       "      <td>37.164909</td>\n",
       "      <td>108.430000</td>\n",
       "      <td>105.910004</td>\n",
       "      <td>59.655315</td>\n",
       "      <td>69.255440</td>\n",
       "      <td>138.373795</td>\n",
       "      <td>99.034233</td>\n",
       "      <td>...</td>\n",
       "      <td>153.687500</td>\n",
       "      <td>94.555565</td>\n",
       "      <td>102.427414</td>\n",
       "      <td>46.024002</td>\n",
       "      <td>79.229477</td>\n",
       "      <td>46.735260</td>\n",
       "      <td>75.552658</td>\n",
       "      <td>48.606167</td>\n",
       "      <td>63.693573</td>\n",
       "      <td>75.592690</td>\n",
       "    </tr>\n",
       "    <tr>\n",
       "      <th>3</th>\n",
       "      <td>2017-01-06</td>\n",
       "      <td>112.065109</td>\n",
       "      <td>53.713688</td>\n",
       "      <td>38.175949</td>\n",
       "      <td>109.665268</td>\n",
       "      <td>108.300003</td>\n",
       "      <td>60.755657</td>\n",
       "      <td>69.367714</td>\n",
       "      <td>141.810974</td>\n",
       "      <td>98.380020</td>\n",
       "      <td>...</td>\n",
       "      <td>153.905472</td>\n",
       "      <td>95.536949</td>\n",
       "      <td>102.631989</td>\n",
       "      <td>46.321983</td>\n",
       "      <td>80.323792</td>\n",
       "      <td>46.041534</td>\n",
       "      <td>75.616364</td>\n",
       "      <td>48.482838</td>\n",
       "      <td>62.819294</td>\n",
       "      <td>75.550018</td>\n",
       "    </tr>\n",
       "    <tr>\n",
       "      <th>4</th>\n",
       "      <td>2017-01-09</td>\n",
       "      <td>113.091560</td>\n",
       "      <td>54.067345</td>\n",
       "      <td>38.138512</td>\n",
       "      <td>108.439430</td>\n",
       "      <td>108.570000</td>\n",
       "      <td>60.364632</td>\n",
       "      <td>68.376076</td>\n",
       "      <td>143.674286</td>\n",
       "      <td>98.146400</td>\n",
       "      <td>...</td>\n",
       "      <td>153.469559</td>\n",
       "      <td>94.824051</td>\n",
       "      <td>102.071663</td>\n",
       "      <td>46.114304</td>\n",
       "      <td>79.874336</td>\n",
       "      <td>45.540134</td>\n",
       "      <td>75.115883</td>\n",
       "      <td>47.778152</td>\n",
       "      <td>63.233440</td>\n",
       "      <td>74.303650</td>\n",
       "    </tr>\n",
       "    <tr>\n",
       "      <th>...</th>\n",
       "      <td>...</td>\n",
       "      <td>...</td>\n",
       "      <td>...</td>\n",
       "      <td>...</td>\n",
       "      <td>...</td>\n",
       "      <td>...</td>\n",
       "      <td>...</td>\n",
       "      <td>...</td>\n",
       "      <td>...</td>\n",
       "      <td>...</td>\n",
       "      <td>...</td>\n",
       "      <td>...</td>\n",
       "      <td>...</td>\n",
       "      <td>...</td>\n",
       "      <td>...</td>\n",
       "      <td>...</td>\n",
       "      <td>...</td>\n",
       "      <td>...</td>\n",
       "      <td>...</td>\n",
       "      <td>...</td>\n",
       "      <td>...</td>\n",
       "    </tr>\n",
       "    <tr>\n",
       "      <th>748</th>\n",
       "      <td>2019-12-23</td>\n",
       "      <td>282.562683</td>\n",
       "      <td>87.738403</td>\n",
       "      <td>86.615829</td>\n",
       "      <td>209.074692</td>\n",
       "      <td>328.950012</td>\n",
       "      <td>49.825058</td>\n",
       "      <td>109.725632</td>\n",
       "      <td>239.694580</td>\n",
       "      <td>224.082764</td>\n",
       "      <td>...</td>\n",
       "      <td>292.557281</td>\n",
       "      <td>177.374725</td>\n",
       "      <td>116.550629</td>\n",
       "      <td>57.785435</td>\n",
       "      <td>186.497177</td>\n",
       "      <td>60.121017</td>\n",
       "      <td>57.411610</td>\n",
       "      <td>52.181675</td>\n",
       "      <td>117.986633</td>\n",
       "      <td>67.977135</td>\n",
       "    </tr>\n",
       "    <tr>\n",
       "      <th>749</th>\n",
       "      <td>2019-12-24</td>\n",
       "      <td>282.831299</td>\n",
       "      <td>87.349533</td>\n",
       "      <td>86.546417</td>\n",
       "      <td>209.848190</td>\n",
       "      <td>329.640015</td>\n",
       "      <td>49.795727</td>\n",
       "      <td>110.012611</td>\n",
       "      <td>239.004181</td>\n",
       "      <td>224.191360</td>\n",
       "      <td>...</td>\n",
       "      <td>292.011993</td>\n",
       "      <td>177.839371</td>\n",
       "      <td>115.952888</td>\n",
       "      <td>57.872723</td>\n",
       "      <td>186.985657</td>\n",
       "      <td>60.003517</td>\n",
       "      <td>57.195957</td>\n",
       "      <td>52.191368</td>\n",
       "      <td>118.462433</td>\n",
       "      <td>67.716011</td>\n",
       "    </tr>\n",
       "    <tr>\n",
       "      <th>750</th>\n",
       "      <td>2019-12-26</td>\n",
       "      <td>288.442780</td>\n",
       "      <td>87.330093</td>\n",
       "      <td>86.546417</td>\n",
       "      <td>210.284531</td>\n",
       "      <td>331.200012</td>\n",
       "      <td>49.482922</td>\n",
       "      <td>110.438133</td>\n",
       "      <td>238.580078</td>\n",
       "      <td>225.976379</td>\n",
       "      <td>...</td>\n",
       "      <td>293.112457</td>\n",
       "      <td>178.748871</td>\n",
       "      <td>116.648621</td>\n",
       "      <td>58.338264</td>\n",
       "      <td>188.570694</td>\n",
       "      <td>60.013309</td>\n",
       "      <td>57.735085</td>\n",
       "      <td>52.511387</td>\n",
       "      <td>118.472336</td>\n",
       "      <td>67.822395</td>\n",
       "    </tr>\n",
       "    <tr>\n",
       "      <th>751</th>\n",
       "      <td>2019-12-27</td>\n",
       "      <td>288.333313</td>\n",
       "      <td>86.717621</td>\n",
       "      <td>86.665413</td>\n",
       "      <td>210.453110</td>\n",
       "      <td>330.790009</td>\n",
       "      <td>49.922810</td>\n",
       "      <td>110.705330</td>\n",
       "      <td>238.215164</td>\n",
       "      <td>227.176346</td>\n",
       "      <td>...</td>\n",
       "      <td>293.429718</td>\n",
       "      <td>179.342056</td>\n",
       "      <td>116.550629</td>\n",
       "      <td>57.930916</td>\n",
       "      <td>188.799973</td>\n",
       "      <td>60.248306</td>\n",
       "      <td>57.852707</td>\n",
       "      <td>52.288342</td>\n",
       "      <td>118.541725</td>\n",
       "      <td>67.590294</td>\n",
       "    </tr>\n",
       "    <tr>\n",
       "      <th>752</th>\n",
       "      <td>2019-12-30</td>\n",
       "      <td>290.044617</td>\n",
       "      <td>86.056549</td>\n",
       "      <td>86.070457</td>\n",
       "      <td>208.886261</td>\n",
       "      <td>328.339996</td>\n",
       "      <td>49.854382</td>\n",
       "      <td>110.606369</td>\n",
       "      <td>236.972458</td>\n",
       "      <td>226.948257</td>\n",
       "      <td>...</td>\n",
       "      <td>291.327911</td>\n",
       "      <td>178.096405</td>\n",
       "      <td>114.100853</td>\n",
       "      <td>57.794167</td>\n",
       "      <td>187.244843</td>\n",
       "      <td>59.934975</td>\n",
       "      <td>57.744881</td>\n",
       "      <td>51.978027</td>\n",
       "      <td>118.353401</td>\n",
       "      <td>67.193794</td>\n",
       "    </tr>\n",
       "  </tbody>\n",
       "</table>\n",
       "<p>753 rows × 100 columns</p>\n",
       "</div>"
      ],
      "text/plain": [
       "           Date        AAPL       ABBV        ABT         ACN        ADBE  \\\n",
       "0    2017-01-03  110.392334  52.551662  36.556423  109.816139  103.480003   \n",
       "1    2017-01-04  110.268791  53.292667  36.846622  110.080170  104.139999   \n",
       "2    2017-01-05  110.829552  53.696846  37.164909  108.430000  105.910004   \n",
       "3    2017-01-06  112.065109  53.713688  38.175949  109.665268  108.300003   \n",
       "4    2017-01-09  113.091560  54.067345  38.138512  108.439430  108.570000   \n",
       "..          ...         ...        ...        ...         ...         ...   \n",
       "748  2019-12-23  282.562683  87.738403  86.615829  209.074692  328.950012   \n",
       "749  2019-12-24  282.831299  87.349533  86.546417  209.848190  329.640015   \n",
       "750  2019-12-26  288.442780  87.330093  86.546417  210.284531  331.200012   \n",
       "751  2019-12-27  288.333313  86.717621  86.665413  210.453110  330.790009   \n",
       "752  2019-12-30  290.044617  86.056549  86.070457  208.886261  328.339996   \n",
       "\n",
       "           AIG         ALL        AMGN         AMT  ...         UNH  \\\n",
       "0    59.218830   69.386414  136.338608   99.202438  ...  152.995758   \n",
       "1    59.991787   69.573509  138.274292   99.380005  ...  153.431671   \n",
       "2    59.655315   69.255440  138.373795   99.034233  ...  153.687500   \n",
       "3    60.755657   69.367714  141.810974   98.380020  ...  153.905472   \n",
       "4    60.364632   68.376076  143.674286   98.146400  ...  153.469559   \n",
       "..         ...         ...         ...         ...  ...         ...   \n",
       "748  49.825058  109.725632  239.694580  224.082764  ...  292.557281   \n",
       "749  49.795727  110.012611  239.004181  224.191360  ...  292.011993   \n",
       "750  49.482922  110.438133  238.580078  225.976379  ...  293.112457   \n",
       "751  49.922810  110.705330  238.215164  227.176346  ...  293.429718   \n",
       "752  49.854382  110.606369  236.972458  226.948257  ...  291.327911   \n",
       "\n",
       "            UNP         UPS        USB           V         VZ        WBA  \\\n",
       "0     94.916626  102.347374  46.466454   77.675957  46.683941  75.488945   \n",
       "1     95.490654  102.374054  46.809586   78.311043  46.632622  75.507172   \n",
       "2     94.555565  102.427414  46.024002   79.229477  46.735260  75.552658   \n",
       "3     95.536949  102.631989  46.321983   80.323792  46.041534  75.616364   \n",
       "4     94.824051  102.071663  46.114304   79.874336  45.540134  75.115883   \n",
       "..          ...         ...        ...         ...        ...        ...   \n",
       "748  177.374725  116.550629  57.785435  186.497177  60.121017  57.411610   \n",
       "749  177.839371  115.952888  57.872723  186.985657  60.003517  57.195957   \n",
       "750  178.748871  116.648621  58.338264  188.570694  60.013309  57.735085   \n",
       "751  179.342056  116.550629  57.930916  188.799973  60.248306  57.852707   \n",
       "752  178.096405  114.100853  57.794167  187.244843  59.934975  57.744881   \n",
       "\n",
       "           WFC         WMT        XOM  \n",
       "0    49.328472   63.187412  77.590286  \n",
       "1    49.372513   63.555534  76.736603  \n",
       "2    48.606167   63.693573  75.592690  \n",
       "3    48.482838   62.819294  75.550018  \n",
       "4    47.778152   63.233440  74.303650  \n",
       "..         ...         ...        ...  \n",
       "748  52.181675  117.986633  67.977135  \n",
       "749  52.191368  118.462433  67.716011  \n",
       "750  52.511387  118.472336  67.822395  \n",
       "751  52.288342  118.541725  67.590294  \n",
       "752  51.978027  118.353401  67.193794  \n",
       "\n",
       "[753 rows x 100 columns]"
      ]
     },
     "execution_count": 124,
     "metadata": {},
     "output_type": "execute_result"
    }
   ],
   "source": [
    "# Se elimina DOW y se genera un dataframe con cierres ajsutados\n",
    "\n",
    "assets = [\"AAPL\", \"ABBV\", \"ABT\", \"ACN\", \"ADBE\", \"AIG\", \"ALL\", \"AMGN\", \"AMT\", \n",
    "              \"AMZN\", \"AXP\", \"BA\", \"BAC\", \"BIIB\", \"BK\", \"BKNG\", \"BLK\", \"BMY\", \n",
    "              \"C\", \"CAT\", \"CHTR\", \"CL\", \"CMCSA\", \"COF\", \"COP\", \"COST\", \"CRM\", \n",
    "              \"CSCO\", \"CVS\", \"CVX\", \"DD\", \"DHR\", \"DIS\", \"DUK\", \"EMR\", \n",
    "              \"EXC\", \"F\", \"FB\", \"FDX\", \"GD\", \"GE\", \"GILD\", \"GM\", \"GOOG\", \"GOOGL\", \n",
    "              \"GS\", \"HD\", \"HON\", \"IBM\", \"INTC\", \"JNJ\", \"JPM\", \"KHC\", \"KMI\", \"KO\",\n",
    "              \"LLY\", \"LMT\", \"LOW\", \"MA\", \"MCD\", \"MDLZ\", \"MDT\", \"MET\", \"MMM\", \"MO\", \n",
    "              \"MRK\", \"MS\", \"MSFT\", \"NEE\", \"NFLX\", \"NKE\", \"NVDA\", \"ORCL\", \"OXY\", \n",
    "              \"PEP\", \"PFE\", \"PG\", \"PM\", \"PYPL\", \"QCOM\", \"RTX\", \"SBUX\", \"SLB\", \n",
    "              \"SO\", \"SPG\", \"T\", \"TGT\", \"TMO\", \"TXN\", \"UNH\", \"UNP\", \"UPS\", \"USB\", \n",
    "              \"V\", \"VZ\", \"WBA\", \"WFC\", \"WMT\", \"XOM\"]\n",
    "\n",
    "Maestro = pd.read_csv('data/assets/AAPL.csv')[[\"Date\"]]\n",
    "\n",
    "for asset in assets:\n",
    "    A = pd.read_csv('data/assets/'+asset+\".csv\")\n",
    "    Maestro[asset] = A['Adj Close']\n",
    "\n",
    "Maestro"
   ]
  },
  {
   "cell_type": "markdown",
   "metadata": {},
   "source": [
    "### Cálculo de retornos\n",
    "\n",
    "Se calculan los retornos logaritmicos con el siguiente scripr, para esto se utiliza la fórmula\n",
    "\n",
    "$$r_t=\\ln\\left(\\frac{p_t}{p_{t-1}}\\right)$$\n",
    "\n",
    "Además creamos variables para el año el día y la fecha."
   ]
  },
  {
   "cell_type": "code",
   "execution_count": 132,
   "metadata": {},
   "outputs": [],
   "source": [
    "# Se calculan los retornos logarítimicos y retorno libre de riesgo\n",
    "\n",
    "ret = Maestro.iloc[1:][assets]/Maestro.iloc[:-1][assets].values\n",
    "log_ret = ret.apply(np.log)\n",
    "log_ret.Date = Maestro.Date\n",
    "log_ret.Date = pd.to_datetime(log_ret.Date)\n",
    "log_ret[['year','month','day']] = log_ret.Date.apply(lambda x: pd.Series(x.strftime(\"%Y,%m,%d\").split(\",\")))\n",
    "log_ret['RF'] = 0.027/252"
   ]
  },
  {
   "cell_type": "markdown",
   "metadata": {},
   "source": [
    "Lo que haremos ahora será particionar la tabla de retornos logarítmicos en 2, una tabla para los dos primeros años que llamaremos **log_ret_f2y** y una tabla para el último año que llamaremos **log_ret_ly**. "
   ]
  },
  {
   "cell_type": "code",
   "execution_count": 116,
   "metadata": {},
   "outputs": [],
   "source": [
    "# Se particionen los retornos logaritmicos de los dos primeros años y los del último año\n",
    "\n",
    "log_ret_f2y = log_ret[(log_ret['year']=='2017') | (log_ret['year']=='2018')]\n",
    "log_ret_ly = log_ret[(log_ret['year']=='2019')]"
   ]
  },
  {
   "cell_type": "markdown",
   "metadata": {},
   "source": [
    "### Regla de exclusión\n",
    "\n",
    "Ahora se eliminaran los activos con un retorno menor que el retorno del activo libre de riesgo, para disminuir el conjunto objetivo en nuestra futura optimización. Para esto calculamos los retornos promedio y desviaciones para ambas particiones, e imponemos el filtro para los activos cuyo retorno promedio para ambas particiones sea mayor al del activo libre de riesgo."
   ]
  },
  {
   "cell_type": "code",
   "execution_count": 117,
   "metadata": {},
   "outputs": [
    {
     "data": {
      "text/plain": [
       "array(['AAPL', 'NVDA', 'MA', 'MSFT', 'FB', 'LMT', 'ACN', 'DHR', 'AMT',\n",
       "       'JPM', 'COST', 'BAC', 'TMO', 'ADBE', 'V', 'NEE', 'PG', 'TXN',\n",
       "       'SBUX', 'ALL', 'NKE', 'HON', 'UNP', 'DIS', 'LOW', 'AXP', 'EMR',\n",
       "       'BLK', 'WMT', 'INTC', 'HD', 'GOOG', 'PYPL', 'GOOGL', 'PEP', 'AMGN',\n",
       "       'MDT', 'AMZN', 'MRK', 'ABT', 'NFLX', 'KO', 'UNH', 'CAT', 'BKNG',\n",
       "       'ORCL', 'CRM', 'LLY', 'JNJ', 'MCD', 'VZ', 'CSCO', 'DUK', 'COP',\n",
       "       'EXC', 'BA', 'ABBV'], dtype=object)"
      ]
     },
     "execution_count": 117,
     "metadata": {},
     "output_type": "execute_result"
    }
   ],
   "source": [
    "# Se calculan los retornos promedios y desviaciones para ambas particiones\n",
    "\n",
    "ret_mean_f2y = log_ret_f2y.mean()\n",
    "ret_std_f2y = log_ret_f2y.std()\n",
    "\n",
    "ret_mean_ly = log_ret_ly.mean()\n",
    "ret_std_ly = log_ret_ly.std()\n",
    "\n",
    "log_ret_ly = log_ret_ly[(ret_mean_f2y[ret_mean_f2y>risk_free[0]].index) & (ret_mean_ly[ret_mean_ly>risk_free[0]].index)]\n",
    "\n",
    "temp_assets = log_ret_ly.mean().sort_values(ascending=False)[3:]\n",
    "np.array(temp_assets.index)"
   ]
  },
  {
   "cell_type": "markdown",
   "metadata": {},
   "source": [
    "Logramos reducir a 57 los activos cuyo retorno promedio diario en ambas particiones fuera mayor al activo libre de riesgo. Ahora queremos ver cuantos portafolios de entre 6 a 10 activos podemos construir con estos, la respuesta sería:\n",
    "\n",
    "$$N=\\sum_{k=6}^{10}\\frac{57!}{(57-k)!\\cdot k!}=54132567918$$\n",
    "\n",
    "Tenemos cerca de **54 billones** de portafolios, y a cada uno de estos portafolios debemos optimizar su ponderación para obtener así el portafolio con mayor ratio de Sharpe. Es decir, debemos realizar 54 billones de optimizaciones con algún metodo numérico, por lo que el computo tardaría si lo hacemos en un computador convencional. No utilizaremos la fuerza bruta, es más, utilizaremos la convexidad de nuestro problema para plantear un problema alternativo que también nos entrega el mayor ratio de Sharpe.\n",
    "\n",
    "### Optimización recursiva\n",
    "\n",
    "Consideremos un portafolio $P_{57}$, compuesto por las $57$ acciones que nos cumplen el problema, calcularemos un portafolio compuesto por $56$ de entre esas $57$ que maximize el ratio de Sharpe, luego de esas $56$ acciones escojeremos el portafolio con $55$ acciones que maximize el ratio de Sharpe, y asi recursivamente hasta llegar al portafolio de entre 6 a 10 que nos maximize este ratio. Dada la convexidad del problema de optimización, podemos afirmar que así encontraremos el portafolio óptimo."
   ]
  },
  {
   "cell_type": "code",
   "execution_count": 126,
   "metadata": {
    "scrolled": true
   },
   "outputs": [
    {
     "name": "stdout",
     "output_type": "stream",
     "text": [
      "['AAPL', 'MA', 'MSFT', 'FB', 'LMT', 'ACN', 'DHR', 'AMT', 'JPM', 'COST', 'BAC', 'TMO', 'ADBE', 'V', 'NEE', 'PG', 'TXN', 'SBUX', 'ALL', 'NKE', 'HON', 'UNP', 'DIS', 'LOW', 'AXP', 'EMR', 'BLK', 'WMT', 'INTC', 'HD', 'GOOG', 'PYPL', 'GOOGL', 'PEP', 'AMGN', 'MDT', 'AMZN', 'MRK', 'ABT', 'NFLX', 'KO', 'UNH', 'CAT', 'BKNG', 'ORCL', 'CRM', 'LLY', 'JNJ', 'MCD', 'VZ', 'CSCO', 'DUK', 'COP', 'EXC', 'BA', 'ABBV']\n",
      "['AAPL', 'MA', 'MSFT', 'FB', 'LMT', 'ACN', 'DHR', 'AMT', 'JPM', 'COST', 'BAC', 'TMO', 'ADBE', 'V', 'NEE', 'PG', 'TXN', 'SBUX', 'ALL', 'NKE', 'HON', 'UNP', 'DIS', 'LOW', 'AXP', 'EMR', 'WMT', 'INTC', 'HD', 'GOOG', 'PYPL', 'GOOGL', 'PEP', 'AMGN', 'MDT', 'AMZN', 'MRK', 'ABT', 'NFLX', 'KO', 'UNH', 'CAT', 'BKNG', 'ORCL', 'CRM', 'LLY', 'JNJ', 'MCD', 'VZ', 'CSCO', 'DUK', 'COP', 'EXC', 'BA', 'ABBV']\n",
      "['AAPL', 'MA', 'MSFT', 'LMT', 'ACN', 'DHR', 'AMT', 'JPM', 'COST', 'BAC', 'TMO', 'ADBE', 'V', 'NEE', 'PG', 'TXN', 'SBUX', 'ALL', 'NKE', 'HON', 'UNP', 'DIS', 'LOW', 'AXP', 'EMR', 'WMT', 'INTC', 'HD', 'GOOG', 'PYPL', 'GOOGL', 'PEP', 'AMGN', 'MDT', 'AMZN', 'MRK', 'ABT', 'NFLX', 'KO', 'UNH', 'CAT', 'BKNG', 'ORCL', 'CRM', 'LLY', 'JNJ', 'MCD', 'VZ', 'CSCO', 'DUK', 'COP', 'EXC', 'BA', 'ABBV']\n",
      "['AAPL', 'MA', 'MSFT', 'LMT', 'ACN', 'DHR', 'AMT', 'JPM', 'COST', 'BAC', 'TMO', 'ADBE', 'V', 'NEE', 'PG', 'TXN', 'SBUX', 'ALL', 'NKE', 'HON', 'UNP', 'DIS', 'LOW', 'AXP', 'WMT', 'INTC', 'HD', 'GOOG', 'PYPL', 'GOOGL', 'PEP', 'AMGN', 'MDT', 'AMZN', 'MRK', 'ABT', 'NFLX', 'KO', 'UNH', 'CAT', 'BKNG', 'ORCL', 'CRM', 'LLY', 'JNJ', 'MCD', 'VZ', 'CSCO', 'DUK', 'COP', 'EXC', 'BA', 'ABBV']\n",
      "['AAPL', 'MA', 'MSFT', 'LMT', 'ACN', 'DHR', 'AMT', 'JPM', 'COST', 'TMO', 'ADBE', 'V', 'NEE', 'PG', 'TXN', 'SBUX', 'ALL', 'NKE', 'HON', 'UNP', 'DIS', 'LOW', 'AXP', 'WMT', 'INTC', 'HD', 'GOOG', 'PYPL', 'GOOGL', 'PEP', 'AMGN', 'MDT', 'AMZN', 'MRK', 'ABT', 'NFLX', 'KO', 'UNH', 'CAT', 'BKNG', 'ORCL', 'CRM', 'LLY', 'JNJ', 'MCD', 'VZ', 'CSCO', 'DUK', 'COP', 'EXC', 'BA', 'ABBV']\n",
      "['AAPL', 'MA', 'MSFT', 'LMT', 'ACN', 'DHR', 'AMT', 'JPM', 'COST', 'TMO', 'ADBE', 'V', 'NEE', 'PG', 'TXN', 'SBUX', 'ALL', 'NKE', 'HON', 'UNP', 'DIS', 'LOW', 'AXP', 'WMT', 'INTC', 'HD', 'GOOG', 'PYPL', 'PEP', 'AMGN', 'MDT', 'AMZN', 'MRK', 'ABT', 'NFLX', 'KO', 'UNH', 'CAT', 'BKNG', 'ORCL', 'CRM', 'LLY', 'JNJ', 'MCD', 'VZ', 'CSCO', 'DUK', 'COP', 'EXC', 'BA', 'ABBV']\n",
      "['AAPL', 'MA', 'MSFT', 'LMT', 'ACN', 'DHR', 'AMT', 'JPM', 'COST', 'TMO', 'ADBE', 'V', 'NEE', 'PG', 'TXN', 'SBUX', 'ALL', 'NKE', 'HON', 'UNP', 'LOW', 'AXP', 'WMT', 'INTC', 'HD', 'GOOG', 'PYPL', 'PEP', 'AMGN', 'MDT', 'AMZN', 'MRK', 'ABT', 'NFLX', 'KO', 'UNH', 'CAT', 'BKNG', 'ORCL', 'CRM', 'LLY', 'JNJ', 'MCD', 'VZ', 'CSCO', 'DUK', 'COP', 'EXC', 'BA', 'ABBV']\n",
      "['AAPL', 'MA', 'MSFT', 'ACN', 'DHR', 'AMT', 'JPM', 'COST', 'TMO', 'ADBE', 'V', 'NEE', 'PG', 'TXN', 'SBUX', 'ALL', 'NKE', 'HON', 'UNP', 'LOW', 'AXP', 'WMT', 'INTC', 'HD', 'GOOG', 'PYPL', 'PEP', 'AMGN', 'MDT', 'AMZN', 'MRK', 'ABT', 'NFLX', 'KO', 'UNH', 'CAT', 'BKNG', 'ORCL', 'CRM', 'LLY', 'JNJ', 'MCD', 'VZ', 'CSCO', 'DUK', 'COP', 'EXC', 'BA', 'ABBV']\n",
      "['AAPL', 'MA', 'MSFT', 'ACN', 'DHR', 'AMT', 'JPM', 'COST', 'TMO', 'ADBE', 'V', 'NEE', 'PG', 'TXN', 'SBUX', 'ALL', 'NKE', 'HON', 'UNP', 'LOW', 'AXP', 'WMT', 'INTC', 'HD', 'PYPL', 'PEP', 'AMGN', 'MDT', 'AMZN', 'MRK', 'ABT', 'NFLX', 'KO', 'UNH', 'CAT', 'BKNG', 'ORCL', 'CRM', 'LLY', 'JNJ', 'MCD', 'VZ', 'CSCO', 'DUK', 'COP', 'EXC', 'BA', 'ABBV']\n",
      "['AAPL', 'MA', 'MSFT', 'ACN', 'DHR', 'AMT', 'JPM', 'COST', 'TMO', 'ADBE', 'V', 'NEE', 'PG', 'TXN', 'SBUX', 'ALL', 'NKE', 'HON', 'UNP', 'LOW', 'AXP', 'WMT', 'INTC', 'HD', 'PYPL', 'PEP', 'AMGN', 'MDT', 'AMZN', 'MRK', 'ABT', 'NFLX', 'KO', 'UNH', 'CAT', 'ORCL', 'CRM', 'LLY', 'JNJ', 'MCD', 'VZ', 'CSCO', 'DUK', 'COP', 'EXC', 'BA', 'ABBV']\n",
      "['AAPL', 'MA', 'MSFT', 'ACN', 'DHR', 'AMT', 'JPM', 'COST', 'TMO', 'ADBE', 'V', 'NEE', 'PG', 'TXN', 'SBUX', 'ALL', 'NKE', 'HON', 'UNP', 'LOW', 'AXP', 'WMT', 'HD', 'PYPL', 'PEP', 'AMGN', 'MDT', 'AMZN', 'MRK', 'ABT', 'NFLX', 'KO', 'UNH', 'CAT', 'ORCL', 'CRM', 'LLY', 'JNJ', 'MCD', 'VZ', 'CSCO', 'DUK', 'COP', 'EXC', 'BA', 'ABBV']\n",
      "['AAPL', 'MA', 'MSFT', 'DHR', 'AMT', 'JPM', 'COST', 'TMO', 'ADBE', 'V', 'NEE', 'PG', 'TXN', 'SBUX', 'ALL', 'NKE', 'HON', 'UNP', 'LOW', 'AXP', 'WMT', 'HD', 'PYPL', 'PEP', 'AMGN', 'MDT', 'AMZN', 'MRK', 'ABT', 'NFLX', 'KO', 'UNH', 'CAT', 'ORCL', 'CRM', 'LLY', 'JNJ', 'MCD', 'VZ', 'CSCO', 'DUK', 'COP', 'EXC', 'BA', 'ABBV']\n",
      "['AAPL', 'MA', 'MSFT', 'DHR', 'AMT', 'COST', 'TMO', 'ADBE', 'V', 'NEE', 'PG', 'TXN', 'SBUX', 'ALL', 'NKE', 'HON', 'UNP', 'LOW', 'AXP', 'WMT', 'HD', 'PYPL', 'PEP', 'AMGN', 'MDT', 'AMZN', 'MRK', 'ABT', 'NFLX', 'KO', 'UNH', 'CAT', 'ORCL', 'CRM', 'LLY', 'JNJ', 'MCD', 'VZ', 'CSCO', 'DUK', 'COP', 'EXC', 'BA', 'ABBV']\n",
      "['AAPL', 'MA', 'MSFT', 'DHR', 'AMT', 'COST', 'TMO', 'ADBE', 'V', 'NEE', 'PG', 'TXN', 'SBUX', 'ALL', 'NKE', 'HON', 'UNP', 'LOW', 'AXP', 'WMT', 'HD', 'PYPL', 'PEP', 'AMGN', 'MDT', 'AMZN', 'MRK', 'ABT', 'NFLX', 'KO', 'UNH', 'CAT', 'CRM', 'LLY', 'JNJ', 'MCD', 'VZ', 'CSCO', 'DUK', 'COP', 'EXC', 'BA', 'ABBV']\n",
      "['AAPL', 'MA', 'MSFT', 'DHR', 'AMT', 'COST', 'TMO', 'ADBE', 'V', 'NEE', 'PG', 'SBUX', 'ALL', 'NKE', 'HON', 'UNP', 'LOW', 'AXP', 'WMT', 'HD', 'PYPL', 'PEP', 'AMGN', 'MDT', 'AMZN', 'MRK', 'ABT', 'NFLX', 'KO', 'UNH', 'CAT', 'CRM', 'LLY', 'JNJ', 'MCD', 'VZ', 'CSCO', 'DUK', 'COP', 'EXC', 'BA', 'ABBV']\n",
      "['AAPL', 'MA', 'MSFT', 'DHR', 'AMT', 'COST', 'TMO', 'ADBE', 'V', 'NEE', 'PG', 'SBUX', 'ALL', 'NKE', 'HON', 'UNP', 'LOW', 'AXP', 'WMT', 'HD', 'PYPL', 'PEP', 'AMGN', 'MDT', 'AMZN', 'MRK', 'ABT', 'NFLX', 'KO', 'UNH', 'CRM', 'LLY', 'JNJ', 'MCD', 'VZ', 'CSCO', 'DUK', 'COP', 'EXC', 'BA', 'ABBV']\n",
      "['AAPL', 'MA', 'MSFT', 'DHR', 'AMT', 'COST', 'TMO', 'ADBE', 'V', 'NEE', 'PG', 'SBUX', 'ALL', 'NKE', 'HON', 'UNP', 'LOW', 'AXP', 'WMT', 'HD', 'PYPL', 'PEP', 'AMGN', 'MDT', 'AMZN', 'MRK', 'ABT', 'NFLX', 'KO', 'UNH', 'CRM', 'LLY', 'MCD', 'VZ', 'CSCO', 'DUK', 'COP', 'EXC', 'BA', 'ABBV']\n",
      "['AAPL', 'MA', 'MSFT', 'DHR', 'AMT', 'COST', 'TMO', 'ADBE', 'V', 'NEE', 'PG', 'SBUX', 'NKE', 'HON', 'UNP', 'LOW', 'AXP', 'WMT', 'HD', 'PYPL', 'PEP', 'AMGN', 'MDT', 'AMZN', 'MRK', 'ABT', 'NFLX', 'KO', 'UNH', 'CRM', 'LLY', 'MCD', 'VZ', 'CSCO', 'DUK', 'COP', 'EXC', 'BA', 'ABBV']\n",
      "['AAPL', 'MA', 'MSFT', 'DHR', 'AMT', 'COST', 'TMO', 'ADBE', 'V', 'NEE', 'PG', 'SBUX', 'NKE', 'UNP', 'LOW', 'AXP', 'WMT', 'HD', 'PYPL', 'PEP', 'AMGN', 'MDT', 'AMZN', 'MRK', 'ABT', 'NFLX', 'KO', 'UNH', 'CRM', 'LLY', 'MCD', 'VZ', 'CSCO', 'DUK', 'COP', 'EXC', 'BA', 'ABBV']\n",
      "['MA', 'MSFT', 'DHR', 'AMT', 'COST', 'TMO', 'ADBE', 'V', 'NEE', 'PG', 'SBUX', 'NKE', 'UNP', 'LOW', 'AXP', 'WMT', 'HD', 'PYPL', 'PEP', 'AMGN', 'MDT', 'AMZN', 'MRK', 'ABT', 'NFLX', 'KO', 'UNH', 'CRM', 'LLY', 'MCD', 'VZ', 'CSCO', 'DUK', 'COP', 'EXC', 'BA', 'ABBV']\n",
      "['MA', 'MSFT', 'DHR', 'AMT', 'COST', 'TMO', 'ADBE', 'V', 'NEE', 'PG', 'SBUX', 'NKE', 'UNP', 'AXP', 'WMT', 'HD', 'PYPL', 'PEP', 'AMGN', 'MDT', 'AMZN', 'MRK', 'ABT', 'NFLX', 'KO', 'UNH', 'CRM', 'LLY', 'MCD', 'VZ', 'CSCO', 'DUK', 'COP', 'EXC', 'BA', 'ABBV']\n",
      "['MA', 'MSFT', 'DHR', 'AMT', 'COST', 'TMO', 'ADBE', 'V', 'NEE', 'PG', 'SBUX', 'NKE', 'UNP', 'WMT', 'HD', 'PYPL', 'PEP', 'AMGN', 'MDT', 'AMZN', 'MRK', 'ABT', 'NFLX', 'KO', 'UNH', 'CRM', 'LLY', 'MCD', 'VZ', 'CSCO', 'DUK', 'COP', 'EXC', 'BA', 'ABBV']\n",
      "['MA', 'MSFT', 'DHR', 'AMT', 'COST', 'TMO', 'ADBE', 'V', 'NEE', 'PG', 'SBUX', 'NKE', 'UNP', 'WMT', 'HD', 'PYPL', 'PEP', 'AMGN', 'MDT', 'AMZN', 'MRK', 'ABT', 'NFLX', 'KO', 'UNH', 'CRM', 'LLY', 'MCD', 'VZ', 'CSCO', 'DUK', 'EXC', 'BA', 'ABBV']\n",
      "['MA', 'MSFT', 'AMT', 'COST', 'TMO', 'ADBE', 'V', 'NEE', 'PG', 'SBUX', 'NKE', 'UNP', 'WMT', 'HD', 'PYPL', 'PEP', 'AMGN', 'MDT', 'AMZN', 'MRK', 'ABT', 'NFLX', 'KO', 'UNH', 'CRM', 'LLY', 'MCD', 'VZ', 'CSCO', 'DUK', 'EXC', 'BA', 'ABBV']\n",
      "['MA', 'MSFT', 'AMT', 'COST', 'TMO', 'ADBE', 'V', 'NEE', 'PG', 'SBUX', 'NKE', 'UNP', 'WMT', 'HD', 'PYPL', 'PEP', 'AMGN', 'MDT', 'AMZN', 'MRK', 'ABT', 'NFLX', 'KO', 'UNH', 'CRM', 'LLY', 'MCD', 'VZ', 'DUK', 'EXC', 'BA', 'ABBV']\n",
      "['MA', 'MSFT', 'AMT', 'COST', 'TMO', 'ADBE', 'V', 'NEE', 'PG', 'SBUX', 'NKE', 'UNP', 'WMT', 'HD', 'PYPL', 'AMGN', 'MDT', 'AMZN', 'MRK', 'ABT', 'NFLX', 'KO', 'UNH', 'CRM', 'LLY', 'MCD', 'VZ', 'DUK', 'EXC', 'BA', 'ABBV']\n",
      "['MA', 'MSFT', 'AMT', 'COST', 'TMO', 'ADBE', 'V', 'NEE', 'PG', 'SBUX', 'NKE', 'UNP', 'WMT', 'HD', 'PYPL', 'MDT', 'AMZN', 'MRK', 'ABT', 'NFLX', 'KO', 'UNH', 'CRM', 'LLY', 'MCD', 'VZ', 'DUK', 'EXC', 'BA', 'ABBV']\n"
     ]
    },
    {
     "name": "stdout",
     "output_type": "stream",
     "text": [
      "['MA', 'MSFT', 'AMT', 'COST', 'TMO', 'ADBE', 'V', 'NEE', 'PG', 'SBUX', 'NKE', 'UNP', 'WMT', 'PYPL', 'MDT', 'AMZN', 'MRK', 'ABT', 'NFLX', 'KO', 'UNH', 'CRM', 'LLY', 'MCD', 'VZ', 'DUK', 'EXC', 'BA', 'ABBV']\n",
      "['MA', 'MSFT', 'AMT', 'COST', 'TMO', 'ADBE', 'V', 'NEE', 'PG', 'NKE', 'UNP', 'WMT', 'PYPL', 'MDT', 'AMZN', 'MRK', 'ABT', 'NFLX', 'KO', 'UNH', 'CRM', 'LLY', 'MCD', 'VZ', 'DUK', 'EXC', 'BA', 'ABBV']\n",
      "['MA', 'AMT', 'COST', 'TMO', 'ADBE', 'V', 'NEE', 'PG', 'NKE', 'UNP', 'WMT', 'PYPL', 'MDT', 'AMZN', 'MRK', 'ABT', 'NFLX', 'KO', 'UNH', 'CRM', 'LLY', 'MCD', 'VZ', 'DUK', 'EXC', 'BA', 'ABBV']\n",
      "['MA', 'AMT', 'COST', 'TMO', 'ADBE', 'V', 'NEE', 'PG', 'NKE', 'UNP', 'WMT', 'PYPL', 'MDT', 'AMZN', 'MRK', 'ABT', 'NFLX', 'KO', 'UNH', 'CRM', 'LLY', 'MCD', 'DUK', 'EXC', 'BA', 'ABBV']\n",
      "['MA', 'AMT', 'COST', 'TMO', 'ADBE', 'V', 'NEE', 'PG', 'NKE', 'UNP', 'WMT', 'PYPL', 'AMZN', 'MRK', 'ABT', 'NFLX', 'KO', 'UNH', 'CRM', 'LLY', 'MCD', 'DUK', 'EXC', 'BA', 'ABBV']\n",
      "['MA', 'AMT', 'COST', 'TMO', 'ADBE', 'V', 'NEE', 'PG', 'NKE', 'UNP', 'WMT', 'PYPL', 'AMZN', 'MRK', 'ABT', 'KO', 'UNH', 'CRM', 'LLY', 'MCD', 'DUK', 'EXC', 'BA', 'ABBV']\n",
      "['MA', 'AMT', 'COST', 'TMO', 'ADBE', 'V', 'NEE', 'NKE', 'UNP', 'WMT', 'PYPL', 'AMZN', 'MRK', 'ABT', 'KO', 'UNH', 'CRM', 'LLY', 'MCD', 'DUK', 'EXC', 'BA', 'ABBV']\n",
      "['MA', 'AMT', 'TMO', 'ADBE', 'V', 'NEE', 'NKE', 'UNP', 'WMT', 'PYPL', 'AMZN', 'MRK', 'ABT', 'KO', 'UNH', 'CRM', 'LLY', 'MCD', 'DUK', 'EXC', 'BA', 'ABBV']\n",
      "['MA', 'AMT', 'TMO', 'ADBE', 'V', 'NEE', 'UNP', 'WMT', 'PYPL', 'AMZN', 'MRK', 'ABT', 'KO', 'UNH', 'CRM', 'LLY', 'MCD', 'DUK', 'EXC', 'BA', 'ABBV']\n",
      "['MA', 'AMT', 'TMO', 'ADBE', 'V', 'NEE', 'WMT', 'PYPL', 'AMZN', 'MRK', 'ABT', 'KO', 'UNH', 'CRM', 'LLY', 'MCD', 'DUK', 'EXC', 'BA', 'ABBV']\n",
      "['MA', 'AMT', 'TMO', 'ADBE', 'V', 'NEE', 'WMT', 'PYPL', 'AMZN', 'MRK', 'ABT', 'KO', 'UNH', 'CRM', 'LLY', 'MCD', 'DUK', 'EXC', 'BA']\n",
      "['MA', 'AMT', 'TMO', 'ADBE', 'NEE', 'WMT', 'PYPL', 'AMZN', 'MRK', 'ABT', 'KO', 'UNH', 'CRM', 'LLY', 'MCD', 'DUK', 'EXC', 'BA']\n",
      "['MA', 'AMT', 'TMO', 'ADBE', 'NEE', 'WMT', 'PYPL', 'AMZN', 'MRK', 'ABT', 'UNH', 'CRM', 'LLY', 'MCD', 'DUK', 'EXC', 'BA']\n",
      "['MA', 'AMT', 'TMO', 'ADBE', 'NEE', 'WMT', 'PYPL', 'AMZN', 'MRK', 'ABT', 'UNH', 'LLY', 'MCD', 'DUK', 'EXC', 'BA']\n",
      "['MA', 'AMT', 'ADBE', 'NEE', 'WMT', 'PYPL', 'AMZN', 'MRK', 'ABT', 'UNH', 'LLY', 'MCD', 'DUK', 'EXC', 'BA']\n",
      "['AMT', 'ADBE', 'NEE', 'WMT', 'PYPL', 'AMZN', 'MRK', 'ABT', 'UNH', 'LLY', 'MCD', 'DUK', 'EXC', 'BA']\n",
      "['AMT', 'ADBE', 'NEE', 'WMT', 'PYPL', 'AMZN', 'MRK', 'ABT', 'UNH', 'LLY', 'MCD', 'EXC', 'BA']\n",
      "['AMT', 'ADBE', 'NEE', 'WMT', 'PYPL', 'AMZN', 'ABT', 'UNH', 'LLY', 'MCD', 'EXC', 'BA']\n",
      "['AMT', 'ADBE', 'NEE', 'WMT', 'PYPL', 'ABT', 'UNH', 'LLY', 'MCD', 'EXC', 'BA']\n",
      "['AMT', 'ADBE', 'NEE', 'PYPL', 'ABT', 'UNH', 'LLY', 'MCD', 'EXC', 'BA']\n",
      "['AMT', 'ADBE', 'NEE', 'PYPL', 'ABT', 'LLY', 'MCD', 'EXC', 'BA']\n",
      "['AMT', 'ADBE', 'NEE', 'PYPL', 'ABT', 'LLY', 'MCD', 'BA']\n",
      "['AMT', 'ADBE', 'NEE', 'ABT', 'LLY', 'MCD', 'BA']\n",
      "['AMT', 'ADBE', 'NEE', 'ABT', 'LLY', 'MCD', 'BA']\n"
     ]
    }
   ],
   "source": [
    "# Algoritmo para la optimización recursiva\n",
    "\n",
    "filtered_assets = np.array(temp_assets.index)\n",
    "\n",
    "n = len(temp_assets)-1\n",
    "\n",
    "max_sharpe = [\"Assets\",\"Weights\",\"Sharpe_ratio\"]\n",
    "max_sharpe = [\"Assets\",\"Weights\",0]\n",
    "\n",
    "while n>=6:\n",
    "  \n",
    "    options = it.combinations(filtered_assets,n)\n",
    "    \n",
    "    for subset in options:\n",
    "\n",
    "        subset = list(subset)\n",
    "\n",
    "        cov = log_ret_f2y[subset].cov()\n",
    "        ret = ret_mean_f2y[subset].values\n",
    "        ass = ret_mean_f2y[subset].index.values\n",
    "\n",
    "        if ret.shape[0]==cov.shape[0]:\n",
    "            weights = msr(risk_free_asset[0],ret,cov)\n",
    "\n",
    "            if max_sharpe[2]<=-neg_sharpe(weights, risk_free_asset[0], ret, cov):\n",
    "                max_sharpe[0] = subset\n",
    "                max_sharpe[1] = weights\n",
    "                max_sharpe[2] = -neg_sharpe(weights, risk_free_asset[0], ret, cov)\n",
    "            else: pass\n",
    "        else: pass\n",
    "    print(max_sharpe[0])\n",
    "    filtered_assets = max_sharpe[0]\n",
    "    n-=1\n",
    "    "
   ]
  },
  {
   "cell_type": "code",
   "execution_count": 17,
   "metadata": {},
   "outputs": [
    {
     "data": {
      "text/html": [
       "<div>\n",
       "<style scoped>\n",
       "    .dataframe tbody tr th:only-of-type {\n",
       "        vertical-align: middle;\n",
       "    }\n",
       "\n",
       "    .dataframe tbody tr th {\n",
       "        vertical-align: top;\n",
       "    }\n",
       "\n",
       "    .dataframe thead th {\n",
       "        text-align: right;\n",
       "    }\n",
       "</style>\n",
       "<table border=\"1\" class=\"dataframe\">\n",
       "  <thead>\n",
       "    <tr style=\"text-align: right;\">\n",
       "      <th></th>\n",
       "      <th>day</th>\n",
       "      <th>month</th>\n",
       "      <th>year</th>\n",
       "      <th>profit</th>\n",
       "    </tr>\n",
       "  </thead>\n",
       "  <tbody>\n",
       "    <tr>\n",
       "      <th>1</th>\n",
       "      <td>04</td>\n",
       "      <td>01</td>\n",
       "      <td>2017</td>\n",
       "      <td>0.004551</td>\n",
       "    </tr>\n",
       "    <tr>\n",
       "      <th>2</th>\n",
       "      <td>05</td>\n",
       "      <td>01</td>\n",
       "      <td>2017</td>\n",
       "      <td>0.003496</td>\n",
       "    </tr>\n",
       "    <tr>\n",
       "      <th>3</th>\n",
       "      <td>06</td>\n",
       "      <td>01</td>\n",
       "      <td>2017</td>\n",
       "      <td>0.006832</td>\n",
       "    </tr>\n",
       "    <tr>\n",
       "      <th>4</th>\n",
       "      <td>09</td>\n",
       "      <td>01</td>\n",
       "      <td>2017</td>\n",
       "      <td>-0.001467</td>\n",
       "    </tr>\n",
       "    <tr>\n",
       "      <th>5</th>\n",
       "      <td>10</td>\n",
       "      <td>01</td>\n",
       "      <td>2017</td>\n",
       "      <td>0.003042</td>\n",
       "    </tr>\n",
       "    <tr>\n",
       "      <th>...</th>\n",
       "      <td>...</td>\n",
       "      <td>...</td>\n",
       "      <td>...</td>\n",
       "      <td>...</td>\n",
       "    </tr>\n",
       "    <tr>\n",
       "      <th>748</th>\n",
       "      <td>23</td>\n",
       "      <td>12</td>\n",
       "      <td>2019</td>\n",
       "      <td>-0.001153</td>\n",
       "    </tr>\n",
       "    <tr>\n",
       "      <th>749</th>\n",
       "      <td>24</td>\n",
       "      <td>12</td>\n",
       "      <td>2019</td>\n",
       "      <td>0.000740</td>\n",
       "    </tr>\n",
       "    <tr>\n",
       "      <th>750</th>\n",
       "      <td>26</td>\n",
       "      <td>12</td>\n",
       "      <td>2019</td>\n",
       "      <td>0.001617</td>\n",
       "    </tr>\n",
       "    <tr>\n",
       "      <th>751</th>\n",
       "      <td>27</td>\n",
       "      <td>12</td>\n",
       "      <td>2019</td>\n",
       "      <td>0.002296</td>\n",
       "    </tr>\n",
       "    <tr>\n",
       "      <th>752</th>\n",
       "      <td>30</td>\n",
       "      <td>12</td>\n",
       "      <td>2019</td>\n",
       "      <td>-0.006144</td>\n",
       "    </tr>\n",
       "  </tbody>\n",
       "</table>\n",
       "<p>752 rows × 4 columns</p>\n",
       "</div>"
      ],
      "text/plain": [
       "    day month  year    profit\n",
       "1    04    01  2017  0.004551\n",
       "2    05    01  2017  0.003496\n",
       "3    06    01  2017  0.006832\n",
       "4    09    01  2017 -0.001467\n",
       "5    10    01  2017  0.003042\n",
       "..   ..   ...   ...       ...\n",
       "748  23    12  2019 -0.001153\n",
       "749  24    12  2019  0.000740\n",
       "750  26    12  2019  0.001617\n",
       "751  27    12  2019  0.002296\n",
       "752  30    12  2019 -0.006144\n",
       "\n",
       "[752 rows x 4 columns]"
      ]
     },
     "execution_count": 17,
     "metadata": {},
     "output_type": "execute_result"
    }
   ],
   "source": [
    "# Calculamos la rentabilidad diaria del portafolio durante los últimos 3 años\n",
    "\n",
    "portfolio = log_ret[['day' , 'month' , 'year' ]]\n",
    "portfolio['profit'] = log_ret[max_sharpe[0]] @ max_sharpe[1]\n",
    "portfolio "
   ]
  },
  {
   "cell_type": "code",
   "execution_count": 176,
   "metadata": {},
   "outputs": [
    {
     "name": "stdout",
     "output_type": "stream",
     "text": [
      "Máximo Diario: 0.038082730639721264\n",
      "Mínimo Diario: -0.03448343151816638\n",
      "\n",
      "Máximo mensual: 0.08088758795823343\n",
      "Mínimo mensual: -0.05178320416784424\n",
      "\n",
      "Máximo Anual: 0.38750023605572304\n",
      "Mínimo Anual: 0.16883109077512293\n"
     ]
    }
   ],
   "source": [
    "ordered_portfolio = portfolio.groupby(['year','month'])\n",
    "print('Máximo Diario: ' + str(ordered_portfolio.max()['profit'].max()))\n",
    "print('Mínimo Diario: ' + str(ordered_portfolio.min()['profit'].min()))\n",
    "print('')\n",
    "print('Máximo mensual: ' + str(ordered_portfolio.mean()['profit'].max()*21))\n",
    "print('Mínimo mensual: ' + str(ordered_portfolio.mean()['profit'].min()*21))\n",
    "print('')\n",
    "ordered_portfolio = portfolio.groupby(['year'])\n",
    "print('Máximo Anual: ' + str(ordered_portfolio.mean()['profit'].max()*252))\n",
    "print('Mínimo Anual: ' + str(ordered_portfolio.mean()['profit'].min()*252))"
   ]
  },
  {
   "cell_type": "code",
   "execution_count": 75,
   "metadata": {},
   "outputs": [
    {
     "data": {
      "image/png": "[encoded data removed]",
      "text/plain": [
       "<Figure size 400x400 with 1 Axes>"
      ]
     },
     "metadata": {
      "needs_background": "light"
     },
     "output_type": "display_data"
    }
   ],
   "source": [
    "last_year = portfolio['profit']\n",
    "\n",
    "invest = 100\n",
    "X = pd.to_datetime(Maestro['Date'])\n",
    "Y = [100]\n",
    "for i in last_year:\n",
    "    invest = invest*(1+i)\n",
    "    Y.append(invest)\n",
    "    \n",
    "# Draw Plot\n",
    "plt.figure(figsize=(5,5), dpi= 80)\n",
    "plt.plot(X, Y, color='tab:purple')\n",
    "\n",
    "# Decoration\n",
    "plt.ylim(50, 250)\n",
    "plt.yticks(fontsize=11)\n",
    "plt.xticks(fontsize=11, rotation=35)\n",
    "plt.grid(axis='both', alpha=.3)\n",
    "plt.gca().yaxis.set_major_formatter(FormatStrFormatter('US$ %d'))\n",
    "\n",
    "# Remove borders\n",
    "plt.gca().spines[\"top\"].set_alpha(0.0)    \n",
    "plt.gca().spines[\"bottom\"].set_alpha(0.3)\n",
    "plt.gca().spines[\"right\"].set_alpha(0.0)    \n",
    "plt.gca().spines[\"left\"].set_alpha(0.3)  \n",
    "\n",
    "plt.savefig('[02]_Simula 100.pdf')"
   ]
  },
  {
   "cell_type": "code",
   "execution_count": 21,
   "metadata": {},
   "outputs": [
    {
     "data": {
      "image/png": "[encoded data removed]",
      "text/plain": [
       "<Figure size 1600x480 with 1 Axes>"
      ]
     },
     "metadata": {
      "needs_background": "light"
     },
     "output_type": "display_data"
    }
   ],
   "source": [
    "X = max_sharpe[1]\n",
    "Y = max_sharpe[0]\n",
    "\n",
    "\n",
    "plt.figure(figsize=(20,6), dpi= 80)\n",
    "color_map = ['gray' for _ in range(7)]\n",
    "plt.barh(Y, X , alpha=0.7, color=color_map, edgecolor='black', linewidth=1.2)\n",
    "\n",
    "\n",
    "plt.subplots_adjust(left=0.5, right=0.8)\n",
    "plt.tight_layout()\n",
    "plt.show()"
   ]
  },
  {
   "cell_type": "code",
   "execution_count": 22,
   "metadata": {},
   "outputs": [
    {
     "name": "stdout",
     "output_type": "stream",
     "text": [
      "['AMT', 'ADBE', 'NEE', 'ABT', 'LLY', 'MCD', 'BA']\n",
      "[0.05119548 0.05       0.34249054 0.20630113 0.08208151 0.12308989\n",
      " 0.14484145]\n"
     ]
    }
   ],
   "source": [
    "print(max_sharpe[0])\n",
    "print(max_sharpe[1])"
   ]
  },
  {
   "cell_type": "code",
   "execution_count": 23,
   "metadata": {},
   "outputs": [
    {
     "data": {
      "text/plain": [
       "0.11424498828485811"
      ]
     },
     "execution_count": 23,
     "metadata": {},
     "output_type": "execute_result"
    }
   ],
   "source": [
    "(0.0009277386949176687-0.027/252)/0.007182773179762952"
   ]
  },
  {
   "cell_type": "code",
   "execution_count": 24,
   "metadata": {},
   "outputs": [
    {
     "data": {
      "text/plain": [
       "1.8135829652233328"
      ]
     },
     "execution_count": 24,
     "metadata": {},
     "output_type": "execute_result"
    }
   ],
   "source": [
    "(0.2337901511192525-0.027)/0.11402298934462446"
   ]
  },
  {
   "cell_type": "code",
   "execution_count": 148,
   "metadata": {},
   "outputs": [
    {
     "name": "stdout",
     "output_type": "stream",
     "text": [
      "Retorno 0.27794743073550215\n",
      "Volatilidad 0.11517320005082379\n"
     ]
    }
   ],
   "source": [
    "# Jadue\n",
    "\n",
    "cov = log_ret_f2y[max_sharpe[0]].cov()\n",
    "ret = ret_mean_f2y[max_sharpe[0]].values\n",
    "r_year = portfolio_return(max_sharpe[1], ret)\n",
    "vol_year = portfolio_vol(max_sharpe[1], cov)\n",
    "r_daily = daily_portfolio_return(max_sharpe[1], ret)\n",
    "vol_daily = daily_portfolio_vol(max_sharpe[1], cov)\n",
    "print('Retorno ' + str(r_year))\n",
    "print('Volatilidad ' + str(vol_year))"
   ]
  },
  {
   "cell_type": "code",
   "execution_count": 149,
   "metadata": {},
   "outputs": [
    {
     "name": "stdout",
     "output_type": "stream",
     "text": [
      "Retorno 0.0008540102105223279\n",
      "Volatilidad 0.005441422232749489\n"
     ]
    }
   ],
   "source": [
    "# Lavín\n",
    "\n",
    "aux_cov = log_ret_f2y[max_sharpe[0]].cov()\n",
    "aux_ret = ret_mean_f2y[max_sharpe[0]].values\n",
    "r_year = portfolio_return(max_sharpe[1], ret)\n",
    "vol_year = portfolio_vol(max_sharpe[1], cov)\n",
    "r_daily = daily_portfolio_return(max_sharpe[1], ret)\n",
    "vol_daily = daily_portfolio_vol(max_sharpe[1], cov)\n",
    "print('Retorno ' + str(r_daily*0.75+(0.027/252)*0.25))\n",
    "print('Volatilidad ' + str(0.75*vol_daily))"
   ]
  },
  {
   "cell_type": "code",
   "execution_count": 151,
   "metadata": {},
   "outputs": [
    {
     "name": "stdout",
     "output_type": "stream",
     "text": [
      "Retorno 0.1390272867963225\n",
      "Volatilidad 0.057586600025411896\n"
     ]
    }
   ],
   "source": [
    "# Matthei\n",
    "\n",
    "cov = log_ret_f2y[max_sharpe[0]].cov()\n",
    "ret = ret_mean_f2y[max_sharpe[0]].values\n",
    "r_year = portfolio_return(max_sharpe[1], ret)\n",
    "vol_year = portfolio_vol(max_sharpe[1], cov)\n",
    "r_daily = daily_portfolio_return(max_sharpe[1], ret)\n",
    "vol_daily = daily_portfolio_vol(max_sharpe[1], cov)\n",
    "print('Retorno ' + str(r_year*0.5+(0.027/252)*0.5))\n",
    "print('Volatilidad ' + str(0.5*vol_year))"
   ]
  },
  {
   "cell_type": "code",
   "execution_count": 26,
   "metadata": {},
   "outputs": [
    {
     "data": {
      "image/png": "[encoded data removed]",
      "text/plain": [
       "<Figure size 720x360 with 1 Axes>"
      ]
     },
     "metadata": {
      "needs_background": "light"
     },
     "output_type": "display_data"
    }
   ],
   "source": [
    "# Grafico LMC\n",
    "\n",
    "X = [12,15,13,11,16,14,13.5,18,17,16.5,19.5,19,18.5]\n",
    "Y = [25,17,11,20,32,27,19,10.2,22,11.5,26.5,34.5,17.6]\n",
    "\n",
    "A = (0,2.7)\n",
    "C = (11.517,27.795)\n",
    "\n",
    "F = (11.517,27.795)\n",
    "G = ((11.517*0.75+2.7*0.25),27.795*0.75)\n",
    "\n",
    "\n",
    "X_2 = [11.517,11.517*0.75,11.517*0.5]\n",
    "Y_2 = [27.795,(27.795*0.75+2.7*0.25),(27.795*0.5+2.7*0.5)]\n",
    "\n",
    "a=[]\n",
    "b=[]\n",
    "\n",
    "\n",
    "point_purple_2 = plt.Circle(C, 0.4, color='purple')\n",
    "\n",
    "\n",
    "for x in np.linspace(6.2,40,50):\n",
    "    y=(1/40.3)*(x**2-40*x+808.26)\n",
    "    a.append(y)\n",
    "    b.append(x)\n",
    "\n",
    "\n",
    "\n",
    "f,ax1 = plt.subplots(figsize = (10,5))\n",
    "ax2 = ax1\n",
    "ax1.scatter(x=X, y=Y,color='skyblue', alpha=0.65, s=180)\n",
    "ax1.plot(a,b,color='red')\n",
    "ax1.scatter(x=X_2, y=Y_2,color=['#418663','#63BF90','#19E57E'], alpha=0.65, s=180)\n",
    "\n",
    "\n",
    "plt.annotate('Jadue',color='#418663', fontsize=18, xy=(0.42, 0.69), xycoords='axes fraction')\n",
    "plt.annotate('Lavín',color='#63BF90', fontsize=18, xy=(0.295, 0.56), xycoords='axes fraction')\n",
    "plt.annotate('Matthei',color='#19E57E', fontsize=18, xy=(0.15, 0.42), xycoords='axes fraction')\n",
    "\n",
    "\n",
    "ax2.set_xlim(-3,19.4)\n",
    "ax2.set_ylim(7.5,9.3)\n",
    "newline(A,C,\"--\",\"brown\",ax2)\n",
    "newline(A,C,\"--\",\"brown\",ax2)\n",
    "\n",
    "\n",
    "xmin, xmax, ymin, ymax = plt.axis([0, 22, 0, 45])\n",
    "\n",
    "\n",
    "plt.gca().spines['top'].set_visible(False)\n",
    "plt.gca().spines['right'].set_visible(False)\n",
    "plt.grid()\n"
   ]
  },
  {
   "cell_type": "code",
   "execution_count": 27,
   "metadata": {},
   "outputs": [
    {
     "data": {
      "image/png": "[encoded data removed]",
      "text/plain": [
       "<Figure size 432x288 with 1 Axes>"
      ]
     },
     "metadata": {},
     "output_type": "display_data"
    }
   ],
   "source": [
    "# Pie chart Jadue\n",
    "labels = ['NEE', 'ABT', 'BA', 'MCD', 'LLY', 'AMT', 'ADBE']\n",
    "sizes = [34.25, 20.63, 14.48, 12.3, 8.21, 5.13, 5]\n",
    "#colors\n",
    "colors = ['#933E12','#AB5528','#E36B2D','#E17F4D','#E29973','#E2B096','#E1C8BB']\n",
    "#explsion\n",
    "explode = (0.05,0.05,0.05,0.05,0.05,0.05,0.05)\n",
    " \n",
    "plt.pie(sizes, colors = colors, labels=labels, autopct='%1.1f%%', startangle=110, pctdistance=1.2, explode = explode,\n",
    "       wedgeprops={\"edgecolor\":\"k\",'linewidth': 1, 'linestyle': 'dashed', 'antialiased': True}, textprops={'color':\"w\" , 'fontsize' : 10})\n",
    "#draw circle\n",
    "centre_circle = plt.Circle((0,0),0.70,fc='#009edf')\n",
    "fig = plt.gcf()\n",
    "fig.gca().add_artist(centre_circle)\n",
    "# Equal aspect ratio ensures that pie is drawn as a circle\n",
    "ax1.axis('equal')  \n",
    "plt.tight_layout()"
   ]
  },
  {
   "cell_type": "code",
   "execution_count": 28,
   "metadata": {},
   "outputs": [
    {
     "data": {
      "image/png": "[encoded data removed]",
      "text/plain": [
       "<Figure size 432x288 with 1 Axes>"
      ]
     },
     "metadata": {},
     "output_type": "display_data"
    }
   ],
   "source": [
    "# Pie chart Lavin\n",
    "labels = ['NEE', 'ABT', 'BA', 'MCD', 'LLY', 'AMT', 'ADBE','Risk_Free']\n",
    "sizes = [34.25*0.75, 20.63*0.75, 14.48*0.75, 12.3*0.75, 8.21*0.75, 5.13*0.75, 5*0.75,25]\n",
    "#colors\n",
    "colors = ['#933E12','#AB5528','#E36B2D','#E17F4D','#E29973','#E2B096','#E1C8BB','#A7F3F2']\n",
    "#explsion\n",
    "explode = (0.05,0.05,0.05,0.05,0.05,0.05,0.05,0.05)\n",
    " \n",
    "plt.pie(sizes, colors = colors, labels=labels, autopct='%1.1f%%', startangle=110, pctdistance=0.85, explode = explode,\n",
    "       wedgeprops={\"edgecolor\":\"k\",'linewidth': 1, 'linestyle': 'dashed', 'antialiased': True}, textprops={'color':\"w\" , 'fontsize' : 10})\n",
    "#draw circle\n",
    "centre_circle = plt.Circle((0,0),0.70,fc='#009edf')\n",
    "fig = plt.gcf()\n",
    "fig.gca().add_artist(centre_circle)\n",
    "# Equal aspect ratio ensures that pie is drawn as a circle\n",
    "ax1.axis('equal')  \n",
    "plt.tight_layout()\n"
   ]
  },
  {
   "cell_type": "code",
   "execution_count": 29,
   "metadata": {},
   "outputs": [
    {
     "data": {
      "image/png": "[encoded data removed]",
      "text/plain": [
       "<Figure size 432x288 with 1 Axes>"
      ]
     },
     "metadata": {},
     "output_type": "display_data"
    }
   ],
   "source": [
    "# Pie chart Lavin\n",
    "labels = ['NEE', 'ABT', 'BA', 'MCD', 'LLY', 'AMT', 'ADBE','Risk_Free']\n",
    "sizes = [34.25*0.5, 20.63*0.5, 14.48*0.5, 12.3*0.5, 8.21*0.5, 5.13*0.5, 5*0.5,50]\n",
    "#colors\n",
    "colors = ['#933E12','#AB5528','#E36B2D','#E17F4D','#E29973','#E2B096','#E1C8BB','#A7F3F2']\n",
    "#explsion\n",
    "explode = (0.05,0.05,0.05,0.05,0.05,0.05,0.05,0.05)\n",
    " \n",
    "plt.pie(sizes, colors = colors, labels=labels, autopct='%1.1f%%', startangle=110, pctdistance=1.2, explode = explode,\n",
    "       wedgeprops={\"edgecolor\":\"k\",'linewidth': 1, 'linestyle': 'dashed', 'antialiased': True}, textprops={'color':\"w\" , 'fontsize' : 10})\n",
    "#draw circle\n",
    "centre_circle = plt.Circle((0,0),0.70,fc='#009edf')\n",
    "fig = plt.gcf()\n",
    "fig.gca().add_artist(centre_circle)\n",
    "# Equal aspect ratio ensures that pie is drawn as a circle\n",
    "ax1.axis('equal')  \n",
    "plt.tight_layout()"
   ]
  },
  {
   "cell_type": "code",
   "execution_count": 64,
   "metadata": {},
   "outputs": [
    {
     "data": {
      "image/png": "[encoded data removed]",
      "text/plain": [
       "<Figure size 1600x480 with 1 Axes>"
      ]
     },
     "metadata": {
      "needs_background": "light"
     },
     "output_type": "display_data"
    }
   ],
   "source": [
    "X = pd.to_datetime(Maestro['Date'])[502:]\n",
    "Y_1 = np.array(portfolio[portfolio['year']=='2019']['profit'])\n",
    "Y_2 = 0.75*Y_1+0.25*(0.027/252)\n",
    "Y_3 = 0.5*Y_1+0.5*(0.027/252)\n",
    "\n",
    "plt.figure(figsize=(20,6), dpi= 80)\n",
    "plt.plot(X, Y_1, color='tab:red', label='Jadue')\n",
    "plt.plot(X, Y_2, color='tab:green', label='Lavin')\n",
    "plt.plot(X, Y_3, color='tab:purple', label='Matthei')\n",
    "\n",
    "plt.legend(prop={'size': 20})\n",
    "\n",
    "# Decoration\n",
    "plt.ylim(-0.05, 0.05)\n",
    "plt.yticks(fontsize=12, alpha=.7)\n",
    "plt.grid(axis='both', alpha=.3)\n",
    "plt.gca().yaxis.set_major_formatter(FormatStrFormatter('%.2f%%'))\n",
    "\n",
    "# Remove borders\n",
    "plt.gca().spines[\"top\"].set_alpha(0.0)    \n",
    "plt.gca().spines[\"bottom\"].set_alpha(0.3)\n",
    "plt.gca().spines[\"right\"].set_alpha(0.0)    \n",
    "plt.gca().spines[\"left\"].set_alpha(0.3)  \n",
    "\n",
    "plt.xticks(fontsize=18, rotation=25)\n",
    "plt.yticks(fontsize=18)\n",
    "\n",
    "\n",
    "plt.savefig('[01]_Backtesting.pdf')"
   ]
  },
  {
   "cell_type": "code",
   "execution_count": 195,
   "metadata": {},
   "outputs": [
    {
     "name": "stdout",
     "output_type": "stream",
     "text": [
      "Var Histórico 0.007491230092791816\n",
      "CVar Histórico -0.00037609907267764176\n",
      "Var Paramétrico 0.005838749872306762\n",
      "Var de Cornish-Fisher 0.0072257034589938065\n"
     ]
    }
   ],
   "source": [
    "# Jadue\n",
    "\n",
    "print('Var Histórico ' + str(var_historic(portfolio[portfolio['year']=='2019']['profit'], level=1)))\n",
    "print('CVar Histórico ' + str(cvar_historic(portfolio[portfolio['year']=='2019']['profit'], level=1)))\n",
    "print('Var Paramétrico ' + str(var_gaussian(portfolio[portfolio['year']=='2019']['profit'], level=1)))\n",
    "print('Var de Cornish-Fisher ' + str(var_gaussian(portfolio[portfolio['year']=='2019']['profit'], level=1, modified=True)))"
   ]
  },
  {
   "cell_type": "code",
   "execution_count": 192,
   "metadata": {},
   "outputs": [
    {
     "name": "stdout",
     "output_type": "stream",
     "text": [
      "Var Histórico 0.015089603042726489\n",
      "CVar Histórico -0.0006450552882124263\n",
      "Var Paramétrico 0.011784642601756382\n",
      "Var de Cornish-Fisher 0.01455854977513047\n"
     ]
    }
   ],
   "source": [
    "# Lavin\n",
    "\n",
    "portfolio['profit'] = portfolio['profit']*0.75+(0.027/252)*0.25\n",
    "\n",
    "print('Var Histórico ' + str(var_historic(portfolio[portfolio['year']=='2019']['profit'], level=1)))\n",
    "print('CVar Histórico ' + str(cvar_historic(portfolio[portfolio['year']=='2019']['profit'], level=1)))\n",
    "print('Var Paramétrico ' + str(var_gaussian(portfolio[portfolio['year']=='2019']['profit'], level=1)))\n",
    "print('Var de Cornish-Fisher ' + str(var_gaussian(portfolio[portfolio['year']=='2019']['profit'], level=1, modified=True)))"
   ]
  },
  {
   "cell_type": "code",
   "execution_count": 193,
   "metadata": {},
   "outputs": [
    {
     "name": "stdout",
     "output_type": "stream",
     "text": [
      "Var Histórico 0.007491230092791816\n",
      "CVar Histórico -0.00037609907267764176\n",
      "Var Paramétrico 0.005838749872306762\n",
      "Var de Cornish-Fisher 0.0072257034589938065\n"
     ]
    }
   ],
   "source": [
    "# Matthei\n",
    "\n",
    "portfolio['profit'] = portfolio['profit']*0.5+(0.027/252)*0.5\n",
    "\n",
    "print('Var Histórico ' + str(var_historic(portfolio[portfolio['year']=='2019']['profit'], level=1)))\n",
    "print('CVar Histórico ' + str(cvar_historic(portfolio[portfolio['year']=='2019']['profit'], level=1)))\n",
    "print('Var Paramétrico ' + str(var_gaussian(portfolio[portfolio['year']=='2019']['profit'], level=1)))\n",
    "print('Var de Cornish-Fisher ' + str(var_gaussian(portfolio[portfolio['year']=='2019']['profit'], level=1, modified=True)))"
   ]
  },
  {
   "cell_type": "markdown",
   "metadata": {},
   "source": [
    "## Código Fuerza Bruta\n",
    "\n",
    "El siguiente código corría la optimización con fuerza bruta, nos dimos cuenta que la optimización recursiva reducía el orden del algoritmo en muchos grados, por lo que no se recomienda correr este código"
   ]
  },
  {
   "cell_type": "code",
   "execution_count": 9,
   "metadata": {},
   "outputs": [
    {
     "name": "stdout",
     "output_type": "stream",
     "text": [
      "0.2693789005279541\n",
      "La cartera que máximiza el ratio de Sharpe es: \n",
      "['ABBV', 'ABT', 'UNH']\n",
      "\n",
      "Los pesos respectivos son: \n",
      "[0.05       0.80766278 0.14233722]\n",
      "\n",
      "El ratio de Sharpe es: \n",
      "1.6343513704636377\n"
     ]
    }
   ],
   "source": [
    "# Ejemplo del optimizador para escoger el óptimo de 3 activos entre 5\n",
    "\n",
    "# filtered_assets = temp_assets\n",
    "filtered_assets = ['AAPL', 'ABBV', 'ABT','ACN','UNH']\n",
    "n = 3\n",
    "\n",
    "tiempo = time.time()\n",
    "max_sharpe = [\"Assets\",\"Weights\",\"Sharpe_ratio\"]\n",
    "max_sharpe = [\"Assets\",\"Weights\",0]\n",
    "\n",
    "options = it.combinations(filtered_assets,n)\n",
    "\n",
    "start = time.time()\n",
    "\n",
    "for subset in options:\n",
    "\n",
    "    subset = list(subset)\n",
    "    \n",
    "    cov = log_ret_f2y[subset].cov()\n",
    "    ret = ret_mean_f2y[subset].values\n",
    "    ass = ret_mean_f2y[subset].index.values\n",
    "    \n",
    "    if ret.shape[0]==cov.shape[0]:\n",
    "        weights = msr(risk_free_asset[0],ret,cov)\n",
    "\n",
    "        if max_sharpe[2]<-neg_sharpe(weights, risk_free_asset[0], ret, cov):\n",
    "            max_sharpe[0] = subset\n",
    "            max_sharpe[1] = weights\n",
    "            max_sharpe[2] = -neg_sharpe(weights, risk_free_asset[0], ret, cov)\n",
    "        else: pass\n",
    "    else: pass\n",
    "\n",
    "end = time.time()\n",
    "print(end - start)\n",
    "print(\"La cartera que máximiza el ratio de Sharpe es: \")\n",
    "print(max_sharpe[0])\n",
    "print(\"\")\n",
    "print(\"Los pesos respectivos son: \")\n",
    "print(max_sharpe[1])\n",
    "print(\"\")\n",
    "print(\"El ratio de Sharpe es: \")\n",
    "print(max_sharpe[2])"
   ]
  },
  {
   "cell_type": "code",
   "execution_count": 37,
   "metadata": {
    "scrolled": true
   },
   "outputs": [
    {
     "name": "stdout",
     "output_type": "stream",
     "text": [
      "La cartera que máximiza el ratio de Sharpe es: \n",
      "['MA', 'AMT', 'TMO', 'ADBE', 'NEE', 'UNP']\n",
      "\n",
      "Los pesos respectivos son: \n",
      "[0.11999747 0.12047171 0.06790822 0.14053309 0.5010895  0.05      ]\n",
      "\n",
      "El ratio de Sharpe es: \n",
      "1.8216806850374145\n"
     ]
    }
   ],
   "source": [
    "# Optimizador, se recomienda no ejecutar este código; es demasiado procesamiento. Se ejecutara en GCP\n",
    "\n",
    "'''\n",
    "filtered_assets = np.array(['MA', 'AMT', 'TMO', 'ADBE', 'NEE', 'UNP'])\n",
    "\n",
    "max_sharpe = [\"Assets\",\"Weights\",\"Sharpe_ratio\"]\n",
    "max_sharpe = [\"Assets\",\"Weights\",0]\n",
    "\n",
    "k=1\n",
    "\n",
    "\n",
    "for subset in it.combinations(filtered_assets,6):\n",
    "    subset = list(subset)\n",
    "\n",
    "    cov = log_ret_f2y[subset].cov()\n",
    "    ret = ret_mean_f2y[subset].values\n",
    "    ass = ret_mean_f2y[subset].index.values\n",
    "\n",
    "    if ret.shape[0]==cov.shape[0]:\n",
    "        weights = msr(risk_free_asset[0],ret,cov)\n",
    "\n",
    "        if max_sharpe[2]<-neg_sharpe(weights, risk_free_asset[0], ret, cov):\n",
    "            max_sharpe[0] = subset\n",
    "            max_sharpe[1] = weights\n",
    "            max_sharpe[2] = -neg_sharpe(weights, risk_free_asset[0], ret, cov)\n",
    "        else: pass\n",
    "        if k%1000==0: \n",
    "            print(k)\n",
    "            print(\"La cartera que máximiza el ratio de Sharpe es: \")\n",
    "            print(max_sharpe[0])\n",
    "            print(\"\")\n",
    "            print(\"Los pesos respectivos son: \")\n",
    "            print(max_sharpe[1])\n",
    "            print(\"\")\n",
    "            print(\"El ratio de Sharpe es: \")\n",
    "            print(max_sharpe[2])\n",
    "        else: pass\n",
    "        k+=1\n",
    "        \n",
    "print(\"La cartera que máximiza el ratio de Sharpe es: \")\n",
    "print(max_sharpe[0])\n",
    "print(\"\")\n",
    "print(\"Los pesos respectivos son: \")\n",
    "print(max_sharpe[1])\n",
    "print(\"\")\n",
    "print(\"El ratio de Sharpe es: \")\n",
    "print(max_sharpe[2])\n",
    "'''"
   ]
  }
 ],
 "metadata": {
  "kernelspec": {
   "display_name": "Python 3",
   "language": "python",
   "name": "python3"
  },
  "language_info": {
   "codemirror_mode": {
    "name": "ipython",
    "version": 3
   },
   "file_extension": ".py",
   "mimetype": "text/x-python",
   "name": "python",
   "nbconvert_exporter": "python",
   "pygments_lexer": "ipython3",
   "version": "3.7.7"
  }
 },
 "nbformat": 4,
 "nbformat_minor": 4
}
